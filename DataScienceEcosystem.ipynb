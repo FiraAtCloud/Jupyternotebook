{
 "cells": [
  {
   "cell_type": "markdown",
   "id": "c29d5c8d-82a7-4393-881d-60ea89b1c601",
   "metadata": {},
   "source": [
    "# Data Science Tools and Ecosystem"
   ]
  },
  {
   "cell_type": "markdown",
   "id": "0da6ec0a-6908-46cf-997b-0033bc2c8ab1",
   "metadata": {},
   "source": [
    "# In this notebook, Data Science Tools and Ecosystem are summarized.\n",
    "**Objectives:**\n",
    "- List popular languages for Data Science.\n",
    "- Identify the criteria and roles for determining the language to learn.\n",
    "- Identify the uses and benefits of Python.\n",
    "- Describe data sets and sources of data.\n",
    "- Explore Machine Learning models in the Model Learning eXchange.\n",
    "- Describe how to use the notebooks in JupyterLab."
   ]
  },
  {
   "cell_type": "markdown",
   "id": "28c3ab97-ebff-4b2b-ae0f-78a40031bab9",
   "metadata": {},
   "source": [
    "# Some of the popular languages that Data Scientists use are:\n",
    "1. Python\n",
    "2. Julia\n",
    "3. Scala\n",
    "4. R\n",
    "5. SQL"
   ]
  },
  {
   "cell_type": "markdown",
   "id": "ba9a608d-2d1b-475b-85f6-86afd7913f08",
   "metadata": {},
   "source": [
    "| Data Science Tools |\n",
    "| ----------------- |\n",
    "| MySQL |\n",
    "| MongoDB |\n",
    "| Hadoop File System (HDFS) |"
   ]
  },
  {
   "cell_type": "markdown",
   "id": "06ed6103-2ab1-4bb5-a5d3-d8d5a7bf1100",
   "metadata": {},
   "source": [
    "### Below are a few examples of evaluating arithmetic expressions in Python\n",
    "#### +\n",
    "#### -\n",
    "#### *\n",
    "#### /\n",
    "#### %"
   ]
  },
  {
   "cell_type": "code",
   "execution_count": 5,
   "id": "20b693a5-7683-42b9-8a15-e048afbd58b9",
   "metadata": {},
   "outputs": [
    {
     "name": "stdout",
     "output_type": "stream",
     "text": [
      "17\n"
     ]
    }
   ],
   "source": [
    "# This a simple arithmetic expression to mutiply then add integers\n",
    "x = 3\n",
    "y = 4\n",
    "k = 5\n",
    "z = x*y\n",
    "a = z + k\n",
    "print(a)"
   ]
  },
  {
   "cell_type": "code",
   "execution_count": 6,
   "id": "f0b7d982-ba2e-4548-a215-0ea4866dfc5c",
   "metadata": {},
   "outputs": [
    {
     "name": "stdout",
     "output_type": "stream",
     "text": [
      "3.3333333333333335\n"
     ]
    }
   ],
   "source": [
    "# This will convert 200 minutes to hours by diving by 60\n",
    "k = 60\n",
    "minute = 200\n",
    "hour = minute/k\n",
    "print(hour)"
   ]
  },
  {
   "cell_type": "markdown",
   "id": "8a5cdf2a-731a-4f81-8985-c4a0d9a8e8de",
   "metadata": {},
   "source": [
    "## Author \n",
    "{Firaol}"
   ]
  },
  {
   "cell_type": "code",
   "execution_count": null,
   "id": "f927e240-8eeb-4574-96b1-05b555f651d7",
   "metadata": {},
   "outputs": [],
   "source": []
  }
 ],
 "metadata": {
  "kernelspec": {
   "display_name": "Python 3 (ipykernel)",
   "language": "python",
   "name": "python3"
  },
  "language_info": {
   "codemirror_mode": {
    "name": "ipython",
    "version": 3
   },
   "file_extension": ".py",
   "mimetype": "text/x-python",
   "name": "python",
   "nbconvert_exporter": "python",
   "pygments_lexer": "ipython3",
   "version": "3.11.5"
  }
 },
 "nbformat": 4,
 "nbformat_minor": 5
}
